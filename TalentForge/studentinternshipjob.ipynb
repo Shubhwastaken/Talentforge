{
 "cells": [
  {
   "cell_type": "markdown",
   "metadata": {},
   "source": [
    "this is for when student selects only internships\n"
   ]
  },
  {
   "cell_type": "code",
   "execution_count": 54,
   "metadata": {},
   "outputs": [],
   "source": [
    "import pandas as pd\n"
   ]
  },
  {
   "cell_type": "code",
   "execution_count": 55,
   "metadata": {},
   "outputs": [],
   "source": [
    "students = pd.read_excel(\"studentsdataset.xlsx\")\n",
    "internship = pd.read_excel('internshipdataset.xlsx')\n",
    "internship.drop(['Unnamed: 0','com_name.1'],axis=1,inplace=True)"
   ]
  },
  {
   "cell_type": "code",
   "execution_count": 56,
   "metadata": {},
   "outputs": [
    {
     "data": {
      "text/html": [
       "<div>\n",
       "<style scoped>\n",
       "    .dataframe tbody tr th:only-of-type {\n",
       "        vertical-align: middle;\n",
       "    }\n",
       "\n",
       "    .dataframe tbody tr th {\n",
       "        vertical-align: top;\n",
       "    }\n",
       "\n",
       "    .dataframe thead th {\n",
       "        text-align: right;\n",
       "    }\n",
       "</style>\n",
       "<table border=\"1\" class=\"dataframe\">\n",
       "  <thead>\n",
       "    <tr style=\"text-align: right;\">\n",
       "      <th></th>\n",
       "      <th>com_name</th>\n",
       "      <th>industry</th>\n",
       "      <th>job_title</th>\n",
       "      <th>job_description</th>\n",
       "      <th>prerequisites</th>\n",
       "      <th>location</th>\n",
       "      <th>is_startup</th>\n",
       "      <th>company_size</th>\n",
       "      <th>student_rank</th>\n",
       "      <th>salary</th>\n",
       "    </tr>\n",
       "  </thead>\n",
       "  <tbody>\n",
       "    <tr>\n",
       "      <th>0</th>\n",
       "      <td>Tata Consultancy Services</td>\n",
       "      <td>Technology Services &amp; Consulting</td>\n",
       "      <td>Front-End Developer  intern,Database Developer...</td>\n",
       "      <td>Join our team to develop scalable software sol...</td>\n",
       "      <td>cpp,dsa,javascript,sql</td>\n",
       "      <td>Mumbai</td>\n",
       "      <td>0</td>\n",
       "      <td>large</td>\n",
       "      <td>all</td>\n",
       "      <td>15000</td>\n",
       "    </tr>\n",
       "  </tbody>\n",
       "</table>\n",
       "</div>"
      ],
      "text/plain": [
       "                    com_name                          industry  \\\n",
       "0  Tata Consultancy Services  Technology Services & Consulting   \n",
       "\n",
       "                                           job_title  \\\n",
       "0  Front-End Developer  intern,Database Developer...   \n",
       "\n",
       "                                     job_description           prerequisites  \\\n",
       "0  Join our team to develop scalable software sol...  cpp,dsa,javascript,sql   \n",
       "\n",
       "  location  is_startup company_size student_rank  salary  \n",
       "0   Mumbai           0        large          all   15000  "
      ]
     },
     "execution_count": 56,
     "metadata": {},
     "output_type": "execute_result"
    }
   ],
   "source": [
    "internship.head(1)"
   ]
  },
  {
   "cell_type": "code",
   "execution_count": 57,
   "metadata": {},
   "outputs": [
    {
     "data": {
      "text/html": [
       "<div>\n",
       "<style scoped>\n",
       "    .dataframe tbody tr th:only-of-type {\n",
       "        vertical-align: middle;\n",
       "    }\n",
       "\n",
       "    .dataframe tbody tr th {\n",
       "        vertical-align: top;\n",
       "    }\n",
       "\n",
       "    .dataframe thead th {\n",
       "        text-align: right;\n",
       "    }\n",
       "</style>\n",
       "<table border=\"1\" class=\"dataframe\">\n",
       "  <thead>\n",
       "    <tr style=\"text-align: right;\">\n",
       "      <th></th>\n",
       "      <th>student_id</th>\n",
       "      <th>student_name</th>\n",
       "      <th>year</th>\n",
       "      <th>CGPA</th>\n",
       "      <th>skills</th>\n",
       "      <th>preferred_job_type</th>\n",
       "      <th>preferred_job_location</th>\n",
       "      <th>preferred_job_size</th>\n",
       "      <th>preferred_role</th>\n",
       "      <th>Category</th>\n",
       "      <th>expected_salary_pa</th>\n",
       "      <th>expected_salary_pm</th>\n",
       "    </tr>\n",
       "  </thead>\n",
       "  <tbody>\n",
       "    <tr>\n",
       "      <th>0</th>\n",
       "      <td>232</td>\n",
       "      <td>Shubh Gupta</td>\n",
       "      <td>4</td>\n",
       "      <td>9.69</td>\n",
       "      <td>cpp,python,dsa,ml,nlp,dl</td>\n",
       "      <td>internship</td>\n",
       "      <td>Mumbai</td>\n",
       "      <td>midsize</td>\n",
       "      <td>ml intern</td>\n",
       "      <td>advanced</td>\n",
       "      <td>0</td>\n",
       "      <td>68000.0</td>\n",
       "    </tr>\n",
       "  </tbody>\n",
       "</table>\n",
       "</div>"
      ],
      "text/plain": [
       "   student_id student_name  year  CGPA                    skills  \\\n",
       "0         232  Shubh Gupta     4  9.69  cpp,python,dsa,ml,nlp,dl   \n",
       "\n",
       "  preferred_job_type preferred_job_location preferred_job_size preferred_role  \\\n",
       "0         internship                 Mumbai            midsize      ml intern   \n",
       "\n",
       "   Category  expected_salary_pa  expected_salary_pm  \n",
       "0  advanced                   0             68000.0  "
      ]
     },
     "execution_count": 57,
     "metadata": {},
     "output_type": "execute_result"
    }
   ],
   "source": [
    "students.head(1)"
   ]
  },
  {
   "cell_type": "code",
   "execution_count": 58,
   "metadata": {},
   "outputs": [],
   "source": [
    "internship['prerequisites'] =internship['prerequisites'].str.replace(',',' ')\n",
    "internship['prerequisites'] =internship['prerequisites'].str.lower()\n",
    "internship['job_title'] =internship['job_title'].str.lower()\n",
    "internship['job_description'] =internship['job_description'].str.lower()\n",
    "internship['location'] =internship['location'].str.lower()\n",
    "students['skills'] = students['skills'].str.replace(',',' ')\n"
   ]
  },
  {
   "cell_type": "code",
   "execution_count": 59,
   "metadata": {},
   "outputs": [],
   "source": [
    "import nltk\n",
    "from nltk.corpus import stopwords\n",
    "from nltk.stem import WordNetLemmatizer\n",
    "from nltk import word_tokenize\n",
    "from sklearn.feature_extraction.text import TfidfVectorizer\n",
    "from sklearn.metrics.pairwise import cosine_similarity"
   ]
  },
  {
   "cell_type": "markdown",
   "metadata": {},
   "source": [
    "### skills-prerequisites"
   ]
  },
  {
   "cell_type": "code",
   "execution_count": 60,
   "metadata": {},
   "outputs": [],
   "source": [
    "\n",
    "\n",
    "lemma = WordNetLemmatizer()\n",
    "def lemmatize_skills(skills_str):\n",
    "    skills = [skill.strip() for skill in skills_str.split(' ')]\n",
    "    lemmatized_skills = []\n",
    "    for skill in skills:\n",
    "        tokens = word_tokenize(skill.lower())\n",
    "        lemmas = [lemma.lemmatize(token) for token in tokens] \n",
    "        lemmatized_skills.append(\" \".join(lemmas))\n",
    "    return \" \".join(lemmatized_skills) \n",
    "\n",
    "students['lemmatized_skills'] = students['skills'].apply(lemmatize_skills)\n",
    "internship['lemmatized_skills'] = internship['prerequisites'].apply(lemmatize_skills)\n",
    "\n",
    "tfidf = TfidfVectorizer()\n",
    "student_skill_vectors = tfidf.fit_transform(students['lemmatized_skills'])\n",
    "internship_skill_vectors = tfidf.transform(internship['lemmatized_skills'])\n",
    "\n",
    "similarity_score = cosine_similarity(student_skill_vectors,internship_skill_vectors)\n",
    "\n",
    "\n",
    "def recommend_internships_skills_prerequisites(student_name_input):\n",
    "    # student_name_input = input(\"Enter student name: \")\n",
    "    try:\n",
    "        student_index = students[students['student_name'].str.lower() == student_name_input.lower()].index[0]\n",
    "    except IndexError:\n",
    "        print(f\"Student with name '{student_name_input}' not found.\")\n",
    "        exit()\n",
    "        \n",
    "    internship_indices = similarity_score[student_index].argsort()[::-1][:10]\n",
    "    recommended_internship_skill = []\n",
    "    weight_skill = 0.5\n",
    "    for internship_index in internship_indices:\n",
    "        # print(f\"  - {company['com_name'][company_index]}\")\n",
    "        internship_name = internship['com_name'][internship_index]\n",
    "        similarity = similarity_score[student_index, internship_index] # Get the similarity score\n",
    "        weighted_similarity = similarity * weight_skill\n",
    "        recommended_internship_skill.append((internship_name,weighted_similarity))\n",
    "    recommended_internship_skill.sort(key=lambda x : x[1],reverse=True)    \n",
    "    return recommended_internship_skill    \n",
    "\n"
   ]
  },
  {
   "cell_type": "code",
   "execution_count": 61,
   "metadata": {},
   "outputs": [],
   "source": [
    "def recommend_students_skills(internship_name_input):\n",
    "    try:\n",
    "        internship_index = internship[internship['com_name'].str.lower() == internship_name_input.lower()].index[0]\n",
    "    except IndexError:\n",
    "        print(f\"Company with name '{internship_name_input}' not found.\")\n",
    "        return \n",
    "\n",
    "    # print(f\"Recommendations for {company['com_name'][company_index]}:\")\n",
    "    student_indices = similarity_score[:, internship_index].argsort()[::-1][:19]\n",
    "    recommended_students_skill = []\n",
    "    weight_skill = 0.5\n",
    "    for student_index in student_indices:\n",
    "        # print(f\"  - {students['student_name'][student_index]}\")\n",
    "        student_name = students['student_name'][student_index]\n",
    "        similarity = similarity_score[student_index, internship_index] # Get the similarity score\n",
    "        weighted_similarity = similarity * weight_skill\n",
    "        recommended_students_skill.append((student_name,weighted_similarity))\n",
    "    recommended_students_skill.sort(key=lambda x : x[1],reverse=True)    \n",
    "    return recommended_students_skill"
   ]
  },
  {
   "cell_type": "markdown",
   "metadata": {},
   "source": [
    "### preferred role - job title"
   ]
  },
  {
   "cell_type": "code",
   "execution_count": 62,
   "metadata": {},
   "outputs": [],
   "source": [
    "lemma = WordNetLemmatizer()\n",
    "def lemmatize_skills(skills_str):\n",
    "    skills = [skill.strip() for skill in skills_str.split(' ')]\n",
    "    lemmatized_skills = []\n",
    "    for skill in skills:\n",
    "        tokens = word_tokenize(skill.lower())\n",
    "        lemmas = [lemma.lemmatize(token) for token in tokens] \n",
    "        lemmatized_skills.append(\" \".join(lemmas))\n",
    "    return \" \".join(lemmatized_skills) \n",
    "\n",
    "students['lemmatized_preferred_role'] = students['preferred_role'].apply(lemmatize_skills)\n",
    "internship['lemmatized_job_title'] = (internship['job_title'] + \" \" + internship['job_description']).apply(lemmatize_skills)\n",
    "\n",
    "tfid = TfidfVectorizer()\n",
    "students_preferred_role_vectors = tfid.fit_transform(students['lemmatized_preferred_role'])\n",
    "internship_job_title_vectors = tfid.transform(internship['lemmatized_job_title'])\n",
    "\n",
    "similarity_score_jobtitle_role = cosine_similarity(students_preferred_role_vectors,internship_job_title_vectors)\n"
   ]
  },
  {
   "cell_type": "code",
   "execution_count": 63,
   "metadata": {},
   "outputs": [],
   "source": [
    "def recommend_internship_preferredrole_jobtitle(student_name_input):\n",
    "    # student_name_input = input(\"Enter student name: \")\n",
    "    try:\n",
    "        student_index = students[students['student_name'].str.lower() == student_name_input.lower()].index[0]\n",
    "    except IndexError:\n",
    "        print(f\"Student with name '{student_name_input}' not found.\")\n",
    "        exit()\n",
    "\n",
    "    # student_name = students['student_name'][student_index]\n",
    "    # print(f\"Recommendations for {student_name}:\")\n",
    "    internship_indices = similarity_score_jobtitle_role[student_index].argsort()[::-1][:19]\n",
    "    recommended_internship_jobtitle_role = []\n",
    "    weight_skill = 0.6\n",
    "    for internship_index in internship_indices:\n",
    "        # print(f\"  - {company['com_name'][company_index]}\")\n",
    "        internship_name = internship['com_name'][internship_index]\n",
    "        similarity = similarity_score_jobtitle_role[student_index, internship_index] # Get the similarity score\n",
    "        weighted_similarity = similarity * weight_skill\n",
    "        recommended_internship_jobtitle_role.append((internship_name,weighted_similarity))\n",
    "    recommended_internship_jobtitle_role.sort(key=lambda x : x[1],reverse=True)    \n",
    "    return recommended_internship_jobtitle_role    "
   ]
  },
  {
   "cell_type": "code",
   "execution_count": 64,
   "metadata": {},
   "outputs": [],
   "source": [
    "def recommend_students_preferredrole_jobtitle(internship_name_input):\n",
    "    try:\n",
    "        internship_index = internship[internship['com_name'].str.lower() == internship_name_input.lower()].index[0]\n",
    "    except IndexError:\n",
    "        print(f\"Company with name '{internship_name_input}' not found.\")\n",
    "        return \n",
    "\n",
    "    # print(f\"Recommendations for {company['com_name'][company_index]}:\")\n",
    "    student_indices = similarity_score_jobtitle_role[:, internship_index].argsort()[::-1][:10]\n",
    "    recommended_students_jobtitle_role = []\n",
    "    weight_skill = 0.6\n",
    "    for student_index in student_indices:\n",
    "        # print(f\"  - {students['student_name'][student_index]}\")\n",
    "        student_name = students['student_name'][student_index]\n",
    "        similarity = similarity_score_jobtitle_role[student_index, internship_index] # Get the similarity score\n",
    "        weighted_similarity = similarity * weight_skill\n",
    "        recommended_students_jobtitle_role.append((student_name,weighted_similarity))\n",
    "    recommended_students_jobtitle_role.sort(key=lambda x : x[1],reverse=True)    \n",
    "    return recommended_students_jobtitle_role\n",
    "        \n",
    "  "
   ]
  },
  {
   "cell_type": "markdown",
   "metadata": {},
   "source": [
    "### location-location"
   ]
  },
  {
   "cell_type": "code",
   "execution_count": 65,
   "metadata": {},
   "outputs": [],
   "source": [
    "lemma = WordNetLemmatizer()\n",
    "def lemmatize_skills(skills_str):\n",
    "    skills = [skill.strip() for skill in skills_str.split(' ')]\n",
    "    lemmatized_skills = []\n",
    "    for skill in skills:\n",
    "        tokens = word_tokenize(skill.lower())\n",
    "        lemmas = [lemma.lemmatize(token) for token in tokens] \n",
    "        lemmatized_skills.append(\" \".join(lemmas))\n",
    "    return \" \".join(lemmatized_skills)\n",
    "\n",
    "students['lemmatized_location'] = students['preferred_job_location'].apply(lemmatize_skills)\n",
    "internship['lemmatized_location'] = internship['location'].apply(lemmatize_skills)\n",
    "\n",
    "tfi = TfidfVectorizer()\n",
    "students_location_vectors = tfi.fit_transform(students['lemmatized_location'])\n",
    "internship_location_vectors = tfi.transform(internship['lemmatized_location'])\n",
    "\n",
    "similarity_score_location = cosine_similarity(students_location_vectors,internship_location_vectors)"
   ]
  },
  {
   "cell_type": "code",
   "execution_count": 66,
   "metadata": {},
   "outputs": [],
   "source": [
    "def recommend_internship_location_location(student_name_input):\n",
    "    \n",
    "    try:\n",
    "        student_index = students[students['student_name'].str.lower() == student_name_input.lower()].index[0]\n",
    "    except IndexError:\n",
    "        print(f\"Student with name '{student_name_input}' not found.\")\n",
    "        exit()\n",
    "\n",
    "    # student_name = students['student_name'][student_index]\n",
    "    # print(f\"Recommendations for {student_name}:\")\n",
    "    internship_indices = similarity_score_location[student_index].argsort()[::-1][:19]\n",
    "    recommended_internship_location = []\n",
    "    weight_skill = 0.2\n",
    "    for internship_index in internship_indices:\n",
    "        # print(f\"  - {company['com_name'][company_index]}\")\n",
    "        company_name = internship['com_name'][internship_index]\n",
    "        similarity = similarity_score_location[student_index, internship_index] # Get the similarity score\n",
    "        weighted_similarity = similarity * weight_skill\n",
    "        recommended_internship_location.append((company_name,weighted_similarity))\n",
    "    recommended_internship_location.sort(key=lambda x : x[1],reverse=True)    \n",
    "    return recommended_internship_location \n"
   ]
  },
  {
   "cell_type": "code",
   "execution_count": 67,
   "metadata": {},
   "outputs": [],
   "source": [
    "def recommend_students_location_location(internship_name_input):\n",
    "    try:\n",
    "        internship_index = internship[internship['com_name'].str.lower() == internship_name_input.lower()].index[0]\n",
    "    except IndexError:\n",
    "        print(f\"Company with name '{internship_name_input}' not found.\")\n",
    "        return \n",
    "\n",
    "    # print(f\"Recommendations for {company['com_name'][company_index]}:\")\n",
    "    student_indices = similarity_score_location[:, internship_index].argsort()[::-1][:10]\n",
    "    recommended_students_location = []\n",
    "    weight_skill = 0.2\n",
    "    for student_index in student_indices:\n",
    "        # print(f\"  - {company['com_name'][company_index]}\")\n",
    "        student_name = students['student_name'][student_index]\n",
    "        similarity = similarity_score_location[student_index, internship_index] # Get the similarity score\n",
    "        weighted_similarity = similarity * weight_skill\n",
    "        recommended_students_location.append((student_name,weighted_similarity))\n",
    "    recommended_students_location.sort(key=lambda x : x[1],reverse=True)    \n",
    "    return recommended_students_location"
   ]
  },
  {
   "cell_type": "markdown",
   "metadata": {},
   "source": [
    "### job size - company size"
   ]
  },
  {
   "cell_type": "code",
   "execution_count": 68,
   "metadata": {},
   "outputs": [],
   "source": [
    "lemma = WordNetLemmatizer()\n",
    "def lemmatize_skills(skills_str):\n",
    "    skills = [skill.strip() for skill in skills_str.split(' ')]\n",
    "    lemmatized_skills = []\n",
    "    for skill in skills:\n",
    "        tokens = word_tokenize(skill.lower())\n",
    "        lemmas = [lemma.lemmatize(token) for token in tokens] \n",
    "        lemmatized_skills.append(\" \".join(lemmas))\n",
    "    return \" \".join(lemmatized_skills)\n",
    "\n",
    "students['lemmatized_jobsize'] = students['preferred_job_size'].apply(lemmatize_skills)\n",
    "internship['lemmatized_companysize'] = internship['company_size'].apply(lemmatize_skills)\n",
    "\n",
    "tfi = TfidfVectorizer()\n",
    "students_jobsize_vectors = tfi.fit_transform(students['lemmatized_jobsize'])\n",
    "internship_companysize_vectors = tfi.transform(internship['lemmatized_companysize'])\n",
    "\n",
    "similarity_score_jobsize = cosine_similarity(students_jobsize_vectors,internship_companysize_vectors)"
   ]
  },
  {
   "cell_type": "code",
   "execution_count": 69,
   "metadata": {},
   "outputs": [],
   "source": [
    "def recommend_jobsize_internship_companysize(student_name_input):\n",
    "    \n",
    "    try:\n",
    "        student_index = students[students['student_name'].str.lower() == student_name_input.lower()].index[0]\n",
    "    except IndexError:\n",
    "        print(f\"Student with name '{student_name_input}' not found.\")\n",
    "        exit()\n",
    "\n",
    "    # student_name = students['student_name'][student_index]\n",
    "    # print(f\"Recommendations for {student_name}:\")\n",
    "    internship_indices = similarity_score_jobsize[student_index].argsort()[::-1][:19]\n",
    "    recommended_intenship_jobsize = []\n",
    "    weight_skill = 0.1\n",
    "    for internship_index in internship_indices:\n",
    "        # print(f\"  - {company['com_name'][company_index]}\")\n",
    "        internship_name = internship['com_name'][internship_index]\n",
    "        similarity = similarity_score_jobsize[student_index, internship_index] # Get the similarity score\n",
    "        weighted_similarity = similarity * weight_skill\n",
    "        recommended_intenship_jobsize.append((internship_name,weighted_similarity))\n",
    "    recommended_intenship_jobsize.sort(key=lambda x : x[1],reverse=True)    \n",
    "    return recommended_intenship_jobsize"
   ]
  },
  {
   "cell_type": "code",
   "execution_count": 70,
   "metadata": {},
   "outputs": [],
   "source": [
    "def recommend_students_jobsize_companysize(internship_name_input):    \n",
    "    try:\n",
    "        company_index = internship[internship['com_name'].str.lower() == internship_name_input.lower()].index[0]\n",
    "    except IndexError:\n",
    "        print(f\"Company with name '{internship_name_input}' not found.\")\n",
    "        return \n",
    "\n",
    "    # print(f\"Recommendations for {company['com_name'][company_index]}:\")\n",
    "    student_indices = similarity_score_jobsize[:, company_index].argsort()[::-1][:10]\n",
    "    recommended_students_jobsize = []\n",
    "    weight_skill = 0.1\n",
    "    for student_index in student_indices:\n",
    "        # print(f\"  - {company['com_name'][company_index]}\")\n",
    "        student_name = students['student_name'][student_index]\n",
    "        similarity = similarity_score_jobsize[student_index, company_index] # Get the similarity score\n",
    "        weighted_similarity = similarity * weight_skill\n",
    "        recommended_students_jobsize.append((student_name,weighted_similarity))\n",
    "    recommended_students_jobsize.sort(key=lambda x : x[1],reverse=True)    \n",
    "    return recommended_students_jobsize"
   ]
  },
  {
   "cell_type": "markdown",
   "metadata": {},
   "source": [
    "### category - rank"
   ]
  },
  {
   "cell_type": "code",
   "execution_count": 71,
   "metadata": {},
   "outputs": [],
   "source": [
    "lemma = WordNetLemmatizer()\n",
    "def lemmatize_skills(skills_str):\n",
    "    skills = [skill.strip() for skill in skills_str.split(' ')]\n",
    "    lemmatized_skills = []\n",
    "    for skill in skills:\n",
    "        tokens = word_tokenize(skill.lower())\n",
    "        lemmas = [lemma.lemmatize(token) for token in tokens] \n",
    "        lemmatized_skills.append(\" \".join(lemmas))\n",
    "    return \" \".join(lemmatized_skills)\n",
    "\n",
    "students['lemmatized_category'] = students['Category'].apply(lemmatize_skills)\n",
    "internship['lemmatized_student_rank'] = internship['student_rank'].apply(lemmatize_skills)\n",
    "\n",
    "tfi = TfidfVectorizer()\n",
    "students_category_vectors = tfi.fit_transform(students['lemmatized_category'])\n",
    "internship_studentrank_vectors = tfi.transform(internship['lemmatized_student_rank'])\n",
    "\n",
    "similarity_score_category = cosine_similarity(students_category_vectors,internship_studentrank_vectors)"
   ]
  },
  {
   "cell_type": "code",
   "execution_count": 72,
   "metadata": {},
   "outputs": [],
   "source": [
    "def recommend_internship_rannk_category(student_name_input):\n",
    "    \n",
    "    try:\n",
    "        student_index = students[students['student_name'].str.lower() == student_name_input.lower()].index[0]\n",
    "    except IndexError:\n",
    "        print(f\"Student with name '{student_name_input}' not found.\")\n",
    "        exit()\n",
    "\n",
    "    # student_name = students['student_name'][student_index]\n",
    "    # print(f\"Recommendations for {student_name}:\")\n",
    "    internship_indices = similarity_score_category[student_index].argsort()[::-1][:19]\n",
    "    recommended_internship_category_rank = []\n",
    "    weight_skill = 0.3\n",
    "    for internship_index in internship_indices:\n",
    "        # print(f\"  - {company['com_name'][company_index]}\")\n",
    "        internship_name = internship['com_name'][internship_index]\n",
    "        similarity = similarity_score_category[student_index, internship_index] # Get the similarity score\n",
    "        weighted_similarity = similarity * weight_skill\n",
    "        recommended_internship_category_rank.append((internship_name,weighted_similarity))\n",
    "    recommended_internship_category_rank.sort(key=lambda x : x[1],reverse=True)    \n",
    "    return recommended_internship_category_rank"
   ]
  },
  {
   "cell_type": "code",
   "execution_count": 73,
   "metadata": {},
   "outputs": [],
   "source": [
    "def recommend_students_rankcategory(internship_name_input):\n",
    "    try:\n",
    "        internship_index = internship[internship['com_name'].str.lower() == internship_name_input.lower()].index[0]\n",
    "    except IndexError:\n",
    "        print(f\"Company with name '{internship_name_input}' not found.\")\n",
    "        return \n",
    "\n",
    "    # print(f\"Recommendations for {company['com_name'][company_index]}:\")\n",
    "    student_indices = similarity_score_category[:, internship_index].argsort()[::-1][:10]\n",
    "    recommended_students_category_rank = []\n",
    "    weight_skill = 0.3\n",
    "    for student_index in student_indices:\n",
    "        # print(f\"  - {company['com_name'][company_index]}\")\n",
    "        student_name = students['student_name'][student_index]\n",
    "        similarity = similarity_score_category[student_index, internship_index] # Get the similarity score\n",
    "        weighted_similarity = similarity * weight_skill\n",
    "        recommended_students_category_rank.append((student_name,weighted_similarity))\n",
    "    recommended_students_category_rank.sort(key=lambda x : x[1],reverse=True)    \n",
    "    return recommended_students_category_rank"
   ]
  },
  {
   "cell_type": "markdown",
   "metadata": {},
   "source": [
    "### bottom carousel"
   ]
  },
  {
   "cell_type": "code",
   "execution_count": 74,
   "metadata": {},
   "outputs": [
    {
     "name": "stdout",
     "output_type": "stream",
     "text": [
      "Combined Recommendations for shubh gupta:\n",
      "  - 1mg (Combined Score: 0.4501)\n",
      "  - upGrad (Combined Score: 0.4329)\n",
      "  - Ola (Combined Score: 0.4108)\n",
      "  - Google (Combined Score: 0.3741)\n",
      "  - Capgemini (Combined Score: 0.3218)\n",
      "  - Microsoft (Combined Score: 0.2796)\n",
      "  - Tata Consultancy Services (Combined Score: 0.2717)\n",
      "  - Cognizant (Combined Score: 0.2627)\n",
      "  - Paytm (Combined Score: 0.2583)\n",
      "  - Razorpay (Combined Score: 0.2336)\n",
      "  - Mindtree (Combined Score: 0.1842)\n",
      "  - Wipro (Combined Score: 0.1442)\n"
     ]
    }
   ],
   "source": [
    "#recommending companies to students\n",
    "def merge_and_aggregate_recommendations(skill_recommendations, role_recommendations, location_recommendations,\n",
    "                                        jobsize_recommendations, category_recommendations):\n",
    "    \n",
    "\n",
    "    combined_scores = {}  \n",
    "    def add_scores_from_list(recommendations, weight):\n",
    "        if isinstance(recommendations, str): \n",
    "            return\n",
    "        for internship, score in recommendations:\n",
    "            combined_scores[internship] = combined_scores.get(internship, 0) + score * weight\n",
    "\n",
    "   \n",
    "    add_scores_from_list(skill_recommendations, 0.5) \n",
    "    add_scores_from_list(role_recommendations, 0.6)   \n",
    "    add_scores_from_list(location_recommendations, 0.2) \n",
    "    add_scores_from_list(jobsize_recommendations, 0.1) \n",
    "    add_scores_from_list(category_recommendations, 0.3)\n",
    "    sorted_recommendations = sorted(combined_scores.items(), key=lambda x: x[1], reverse=True)\n",
    "\n",
    "    return sorted_recommendations\n",
    "\n",
    "\n",
    "def recommend_internships_combined(student_name_input):\n",
    "    skill_recommendations = recommend_internships_skills_prerequisites(student_name_input)\n",
    "    role_recommendations = recommend_internship_preferredrole_jobtitle(student_name_input) \n",
    "    location_recommendations = recommend_internship_location_location(student_name_input)\n",
    "    jobsize_recommendations = recommend_jobsize_internship_companysize(student_name_input)\n",
    "    category_recommendations = recommend_internship_rannk_category(student_name_input)\n",
    "     \n",
    "\n",
    "    combined_recommendations = merge_and_aggregate_recommendations(\n",
    "        skill_recommendations, role_recommendations, location_recommendations,\n",
    "        jobsize_recommendations, category_recommendations\n",
    "    )\n",
    "\n",
    "    return combined_recommendations\n",
    "\n",
    "student_name_input = input(\"Enter student name: \")\n",
    "recommendations = recommend_internships_combined(student_name_input)\n",
    "\n",
    "if recommendations:\n",
    "    print(f\"Combined Recommendations for {student_name_input}:\")\n",
    "    for internship, score in recommendations:\n",
    "        print(f\"  - {internship} (Combined Score: {score:.4f})\")\n",
    "        \n",
    "# recommendations"
   ]
  },
  {
   "cell_type": "code",
   "execution_count": 75,
   "metadata": {},
   "outputs": [
    {
     "data": {
      "text/plain": [
       "('1mg', 0.45005315001107016)"
      ]
     },
     "execution_count": 75,
     "metadata": {},
     "output_type": "execute_result"
    }
   ],
   "source": [
    "top_internship = recommendations[0]\n",
    "top_internship"
   ]
  },
  {
   "cell_type": "code",
   "execution_count": 76,
   "metadata": {},
   "outputs": [],
   "source": [
    "internship = pd.read_excel('internshipdataset.xlsx')\n",
    "internship.drop(['Unnamed: 0','com_name.1'],axis=1,inplace=True)"
   ]
  },
  {
   "cell_type": "code",
   "execution_count": 77,
   "metadata": {},
   "outputs": [
    {
     "name": "stdout",
     "output_type": "stream",
     "text": [
      "Combined Recommendations for google:\n",
      "  - Shubh Gupta (Combined Score: 0.3741)\n",
      "  - Ishaan Choudhary (Combined Score: 0.3689)\n",
      "  - Aditya Chunarkar (Combined Score: 0.3618)\n",
      "  - Purvi Wasan (Combined Score: 0.3388)\n",
      "  - Bhoomika Gupta (Combined Score: 0.2866)\n",
      "  - Devanshu Thakur (Combined Score: 0.2653)\n",
      "  - Ayush Kirdak (Combined Score: 0.2524)\n",
      "  - Prakarsh Singh (Combined Score: 0.2213)\n",
      "  - Arjun Deshpande (Combined Score: 0.2018)\n",
      "  - Ansh Kirdak (Combined Score: 0.1962)\n",
      "  - Syed Nousin  (Combined Score: 0.1678)\n",
      "  - Amitesh Bhattacharya (Combined Score: 0.1109)\n",
      "  - Diya Runwal (Combined Score: 0.0957)\n",
      "  - Varun Patney (Combined Score: 0.0900)\n",
      "  - Darshan Raj (Combined Score: 0.0600)\n",
      "  - Chaitanya Muley (Combined Score: 0.0328)\n",
      "  - Devyanshi Saini (Combined Score: 0.0309)\n",
      "  - Sakshi Negi (Combined Score: 0.0254)\n",
      "  - Prisha Sharma (Combined Score: 0.0000)\n"
     ]
    }
   ],
   "source": [
    "#recommending students to comapnies\n",
    "def merge_and_aggregate_recommendations(skill_recommendations, role_recommendations, location_recommendations,\n",
    "                                        jobsize_recommendations, category_recommendations):\n",
    "    \n",
    "\n",
    "    combined_scores = {}  \n",
    "    def add_scores_from_list(recommendations, weight):\n",
    "        if isinstance(recommendations, str): \n",
    "            return\n",
    "        for students, score in recommendations:\n",
    "            combined_scores[students] = combined_scores.get(students, 0) + score * weight\n",
    "\n",
    "   \n",
    "    add_scores_from_list(skill_recommendations, 0.5) \n",
    "    add_scores_from_list(role_recommendations, 0.6)   \n",
    "    add_scores_from_list(location_recommendations, 0.2) \n",
    "    add_scores_from_list(jobsize_recommendations, 0.1) \n",
    "    add_scores_from_list(category_recommendations, 0.3)\n",
    "    sorted_recommendations = sorted(combined_scores.items(), key=lambda x: x[1], reverse=True)\n",
    "\n",
    "    return sorted_recommendations\n",
    "\n",
    "\n",
    "def recommend_companies_combined(internship_name_input):\n",
    "    skill_recommendations = recommend_students_skills(internship_name_input)\n",
    "    role_recommendations = recommend_students_preferredrole_jobtitle(internship_name_input) \n",
    "    location_recommendations = recommend_students_location_location(internship_name_input)\n",
    "    jobsize_recommendations = recommend_students_jobsize_companysize(internship_name_input)\n",
    "    category_recommendations = recommend_students_rankcategory(internship_name_input)\n",
    "    # salary_recommendations = recommend_companies_salary(company_name_input) \n",
    "\n",
    "    combined_recommendations = merge_and_aggregate_recommendations(\n",
    "        skill_recommendations, role_recommendations, location_recommendations,\n",
    "        jobsize_recommendations, category_recommendations\n",
    "    )\n",
    "\n",
    "    return combined_recommendations\n",
    "\n",
    "internship_name_input = input(\"Enter company name: \")\n",
    "recommendations = recommend_companies_combined(internship_name_input)\n",
    "\n",
    "if recommendations:\n",
    "    print(f\"Combined Recommendations for {internship_name_input}:\")\n",
    "    for students, score in recommendations:\n",
    "        print(f\"  - {students} (Combined Score: {score:.4f})\")"
   ]
  },
  {
   "cell_type": "code",
   "execution_count": null,
   "metadata": {},
   "outputs": [],
   "source": []
  }
 ],
 "metadata": {
  "kernelspec": {
   "display_name": "venv",
   "language": "python",
   "name": "python3"
  },
  "language_info": {
   "codemirror_mode": {
    "name": "ipython",
    "version": 3
   },
   "file_extension": ".py",
   "mimetype": "text/x-python",
   "name": "python",
   "nbconvert_exporter": "python",
   "pygments_lexer": "ipython3",
   "version": "3.12.9"
  }
 },
 "nbformat": 4,
 "nbformat_minor": 2
}
